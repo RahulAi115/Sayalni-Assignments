{
  "nbformat": 4,
  "nbformat_minor": 0,
  "metadata": {
    "colab": {
      "provenance": []
    },
    "kernelspec": {
      "name": "python3",
      "display_name": "Python 3"
    },
    "language_info": {
      "name": "python"
    }
  },
  "cells": [
    {
      "cell_type": "code",
      "execution_count": 1,
      "metadata": {
        "colab": {
          "base_uri": "https://localhost:8080/"
        },
        "id": "S8Ywv_k5saYf",
        "outputId": "51a9bc75-95d5-4977-8ba6-e4c23809dc19"
      },
      "outputs": [
        {
          "output_type": "stream",
          "name": "stdout",
          "text": [
            "Enter list elements separated by space: 2\n",
            "Alternate elements: [2]\n"
          ]
        }
      ],
      "source": [
        "lst = list(map(int, input(\"Enter list elements separated by space: \").split()))\n",
        "print(\"Alternate elements:\", lst[::2])\n"
      ]
    },
    {
      "cell_type": "code",
      "source": [
        "lst = list(map(int, input(\"Enter list elements separated by space: \").split()))\n",
        "reversed_list = lst[::-1]\n",
        "print(\"Reversed list:\", reversed_list)\n"
      ],
      "metadata": {
        "colab": {
          "base_uri": "https://localhost:8080/"
        },
        "id": "6guaI7U9wEa1",
        "outputId": "430df23a-72cd-4883-ceee-c93bc176420f"
      },
      "execution_count": 4,
      "outputs": [
        {
          "output_type": "stream",
          "name": "stdout",
          "text": [
            "Enter list elements separated by space: 2 3 4 5 5 6\n",
            "Reversed list: [6, 5, 5, 4, 3, 2]\n"
          ]
        }
      ]
    },
    {
      "cell_type": "code",
      "source": [
        "lst = list(map(int, input(\"Enter list elements separated by space: \").split()))\n",
        "largest = lst[0]\n",
        "for num in lst:\n",
        "    if num > largest:\n",
        "        largest = num\n",
        "print(\"Largest number:\", largest)\n"
      ],
      "metadata": {
        "colab": {
          "base_uri": "https://localhost:8080/"
        },
        "id": "YTaIt3QPwEgp",
        "outputId": "d3a209cc-8011-4ca2-b8a9-a26fb7e596c4"
      },
      "execution_count": 5,
      "outputs": [
        {
          "output_type": "stream",
          "name": "stdout",
          "text": [
            "Enter list elements separated by space: 6 7 8 9 4 5\n",
            "Largest number: 9\n"
          ]
        }
      ]
    },
    {
      "cell_type": "code",
      "source": [
        "lst = list(map(int, input(\"Enter list elements separated by space: \").split()))\n",
        "rotated_list = lst[1:] + lst[:1]\n",
        "print(\"Rotated list:\", rotated_list)"
      ],
      "metadata": {
        "id": "NrWCHU2FwE7L"
      },
      "execution_count": null,
      "outputs": []
    },
    {
      "cell_type": "code",
      "source": [
        "string = input(\"Enter a string: \")\n",
        "word_to_delete = input(\"Enter word to delete: \")\n",
        "updated_string = string.replace(word_to_delete, \"\").strip()\n",
        "print(\"Updated string:\", updated_string)\n"
      ],
      "metadata": {
        "colab": {
          "base_uri": "https://localhost:8080/"
        },
        "id": "TGk2d4cnwQlU",
        "outputId": "350c2a5b-d05d-4b32-8fd9-8cd7467f9b48"
      },
      "execution_count": 6,
      "outputs": [
        {
          "output_type": "stream",
          "name": "stdout",
          "text": [
            "Enter a string: RAhul is best boy\n",
            "Enter word to delete: h\n",
            "Updated string: RAul is best boy\n"
          ]
        }
      ]
    },
    {
      "cell_type": "code",
      "source": [
        "date = input(\"Enter date in mm/dd/yyyy format: \")\n",
        "months = [\"January\", \"February\", \"March\", \"April\", \"May\", \"June\",\n",
        "          \"July\", \"August\", \"September\", \"October\", \"November\", \"December\"]\n",
        "mm, dd, yyyy = map(int, date.split('/'))\n",
        "formatted_date = f\"{months[mm-1]} {dd}, {yyyy}\"\n",
        "print(\"Formatted date:\", formatted_date)"
      ],
      "metadata": {
        "colab": {
          "base_uri": "https://localhost:8080/"
        },
        "id": "nIsJaJO7wQpy",
        "outputId": "27818009-d890-4e1c-df39-ad302b197f99"
      },
      "execution_count": 9,
      "outputs": [
        {
          "output_type": "stream",
          "name": "stdout",
          "text": [
            "Enter date in mm/dd/yyyy format: 12/23/2023\n",
            "Formatted date: December 23, 2023\n"
          ]
        }
      ]
    },
    {
      "cell_type": "code",
      "source": [
        "sentence = input(\"Enter a sentence: \")\n",
        "capitalized_sentence = ' '.join(word.capitalize() for word in sentence.split())\n",
        "print(\"Capitalized sentence:\", capitalized_sentence)\n"
      ],
      "metadata": {
        "colab": {
          "base_uri": "https://localhost:8080/"
        },
        "id": "C7z-RItUwE_H",
        "outputId": "e1cfdb4a-0292-430e-ce32-2c4936f01b2b"
      },
      "execution_count": 10,
      "outputs": [
        {
          "output_type": "stream",
          "name": "stdout",
          "text": [
            "Enter a sentence: RAhul is good person of pakistan\n",
            "Capitalized sentence: Rahul Is Good Person Of Pakistan\n"
          ]
        }
      ]
    },
    {
      "cell_type": "code",
      "source": [
        "## rows, cols = map(int, input(\"Enter matrix size (rows cols): \").split())\n",
        "matrix = []\n",
        "rows = 0\n",
        "for i in range(rows):\n",
        "    matrix.append(list(map(int, input(f\"Enter row {i + 1} elements: \").split())))\n",
        "for i, row in enumerate(matrix):\n",
        "    print(f\"Sum of row {i + 1} =\", sum(rows))"
      ],
      "metadata": {
        "id": "xnIDEW1twFAl"
      },
      "execution_count": 13,
      "outputs": []
    },
    {
      "cell_type": "code",
      "source": [
        "rows, cols = map(int, input(\"Enter matrix size (rows cols): \").split())\n",
        "matrix1, matrix2 = [], []\n",
        "print(\"Enter elements of matrix 1:\")\n",
        "for i in range(rows):\n",
        "    matrix1.append(list(map(int, input(f\"Row {i + 1}: \").split())))\n",
        "print(\"Enter elements of matrix 2:\")\n",
        "for i in range(rows):\n",
        "    matrix2.append(list(map(int, input(f\"Row {i + 1}: \").split())))\n",
        "result = [[matrix1[i][j] + matrix2[i][j] for j in range(cols)] for i in range(rows)]\n",
        "print(\"Resultant matrix:\")\n",
        "for row in result:\n",
        "    print(row)\n"
      ],
      "metadata": {
        "colab": {
          "base_uri": "https://localhost:8080/"
        },
        "id": "8wBBBKPbwcMh",
        "outputId": "bf66e197-7c0c-47a1-baca-b7db0c0c1d99"
      },
      "execution_count": 15,
      "outputs": [
        {
          "output_type": "stream",
          "name": "stdout",
          "text": [
            "Enter matrix size (rows cols): 4 4\n",
            "Enter elements of matrix 1:\n",
            "Row 1:  1 2 3 5 \n",
            "Row 2: 2 3 4 5 \n",
            "Row 3: 2 3 4 5 \n",
            "Row 4: 2 4 6 8\n",
            "Enter elements of matrix 2:\n",
            "Row 1: 2 4 7 9\n",
            "Row 2: 2 3 4 5\n",
            "Row 3: 3 4 5 6\n",
            "Row 4: 2 3 4 5\n",
            "Resultant matrix:\n",
            "[3, 6, 10, 14]\n",
            "[4, 6, 8, 10]\n",
            "[5, 7, 9, 11]\n",
            "[4, 7, 10, 13]\n"
          ]
        }
      ]
    },
    {
      "cell_type": "code",
      "source": [
        "rows1, cols1 = map(int, input(\"Enter size of first matrix (rows cols): \").split())\n",
        "rows2, cols2 = map(int, input(\"Enter size of second matrix (rows cols): \").split())\n",
        "if cols1 != rows2:\n",
        "    print(\"Matrix multiplication is not possible.\")\n",
        "else:\n",
        "    print(\"Enter elements of matrix 1:\")\n",
        "    matrix1 = [list(map(int, input(f\"Row {i + 1}: \").split())) for i in range(rows1)]\n",
        "    print(\"Enter elements of matrix 2:\")\n",
        "    matrix2 = [list(map(int, input(f\"Row {i + 1}: \").split())) for i in range(rows2)]\n",
        "    result = [[sum(matrix1[i][k] * matrix2[k][j] for k in range(cols1)) for j in range(cols2)] for i in range(rows1)]\n",
        "    print(\"Resultant matrix:\")\n",
        "    for row in result:\n",
        "        print(row)\n"
      ],
      "metadata": {
        "colab": {
          "base_uri": "https://localhost:8080/"
        },
        "id": "GFtdqQqtwfva",
        "outputId": "1a879cfc-de42-4bf8-b689-330f22181df9"
      },
      "execution_count": 16,
      "outputs": [
        {
          "output_type": "stream",
          "name": "stdout",
          "text": [
            "Enter size of first matrix (rows cols): 2 3 \n",
            "Enter size of second matrix (rows cols): 2 3\n",
            "Matrix multiplication is not possible.\n"
          ]
        }
      ]
    },
    {
      "cell_type": "code",
      "source": [],
      "metadata": {
        "id": "fWHALICWwfzx"
      },
      "execution_count": null,
      "outputs": []
    },
    {
      "cell_type": "code",
      "source": [],
      "metadata": {
        "id": "hJFOOXgkwFDj"
      },
      "execution_count": null,
      "outputs": []
    }
  ]
}