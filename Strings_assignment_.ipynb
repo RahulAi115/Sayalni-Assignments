{
  "nbformat": 4,
  "nbformat_minor": 0,
  "metadata": {
    "colab": {
      "provenance": []
    },
    "kernelspec": {
      "name": "python3",
      "display_name": "Python 3"
    },
    "language_info": {
      "name": "python"
    }
  },
  "cells": [
    {
      "cell_type": "code",
      "execution_count": null,
      "metadata": {
        "id": "8dW4BVaVzFpR"
      },
      "outputs": [],
      "source": [
        "def count_vowels(string):\n",
        "    vowels = \"aeiouAEIOU\"\n",
        "    count = sum(1 for char in string if char in vowels)\n",
        "    print(f\"Number of vowels: {count}\")\n",
        "\n",
        "count_vowels(input(\"Enter a string: \"))\n"
      ]
    },
    {
      "cell_type": "code",
      "source": [
        "def analyze_string(string):\n",
        "    upper = sum(1 for char in string if char.isupper())\n",
        "    lower = sum(1 for char in string if char.islower())\n",
        "    digits = sum(1 for char in string if char.isdigit())\n",
        "    spaces = sum(1 for char in string if char.isspace())\n",
        "    print(f\"Uppercase: {upper}, Lowercase: {lower}, Digits: {digits}, Whitespace: {spaces}\")\n",
        "\n",
        "analyze_string(input(\"Enter a string: \"))\n"
      ],
      "metadata": {
        "id": "qckPFfUjzKFC"
      },
      "execution_count": null,
      "outputs": []
    },
    {
      "cell_type": "code",
      "source": [
        "def exchange_first_last(string):\n",
        "    if len(string) < 2:\n",
        "        print(\"String too short to exchange characters.\")\n",
        "    else:\n",
        "        new_string = string[-1] + string[1:-1] + string[0]\n",
        "        print(f\"New string: {new_string}\")\n",
        "\n",
        "exchange_first_last(input(\"Enter a string: \"))\n"
      ],
      "metadata": {
        "id": "-gzPpnZpzKJT"
      },
      "execution_count": null,
      "outputs": []
    },
    {
      "cell_type": "code",
      "source": [
        "def reverse_string(string):\n",
        "    print(f\"Reversed string: {string[::-1]}\")\n",
        "\n",
        "reverse_string(input(\"Enter a string: \"))\n"
      ],
      "metadata": {
        "id": "isRZpp71zKKs"
      },
      "execution_count": null,
      "outputs": []
    },
    {
      "cell_type": "code",
      "source": [
        "def shift_string(string):\n",
        "    if len(string) > 1:\n",
        "        new_string = string[1:] + string[0]\n",
        "        print(f\"Shifted string: {new_string}\")\n",
        "    else:\n",
        "        print(\"String too short to shift.\")\n",
        "\n",
        "shift_string(input(\"Enter a string: \"))\n"
      ],
      "metadata": {
        "id": "Q4957r14zKMI"
      },
      "execution_count": null,
      "outputs": []
    },
    {
      "cell_type": "code",
      "source": [
        "def display_initials(name):\n",
        "    initials = ''.join([part[0].upper() + \". \" for part in name.split()])\n",
        "    print(f\"Initials: {initials.strip()}\")\n",
        "\n",
        "display_initials(input(\"Enter full name: \"))\n",
        "\n"
      ],
      "metadata": {
        "id": "9ro5RpSuzKOH"
      },
      "execution_count": null,
      "outputs": []
    },
    {
      "cell_type": "code",
      "source": [
        "def is_palindrome(string):\n",
        "    cleaned = ''.join(char.lower() for char in string if char.isalnum())\n",
        "    if cleaned == cleaned[::-1]:\n",
        "        print(\"Palindrome\")\n",
        "    else:\n",
        "        print(\"Not a palindrome\")\n",
        "\n",
        "is_palindrome(input(\"Enter a string: \"))\n"
      ],
      "metadata": {
        "id": "lOilH-ZjzKQd"
      },
      "execution_count": null,
      "outputs": []
    },
    {
      "cell_type": "code",
      "source": [
        "def pattern_output():\n",
        "    string = \"Ankesh\"\n",
        "    for i in range(len(string)):\n",
        "        shifted = string[i:] + string[:i]\n",
        "        print(shifted)\n",
        "\n",
        "pattern_output()\n"
      ],
      "metadata": {
        "id": "CIhaEGxczKS6"
      },
      "execution_count": null,
      "outputs": []
    },
    {
      "cell_type": "code",
      "source": [
        "def validate_password(password):\n",
        "    if (len(password) >= 8 and\n",
        "        any(char.isupper() for char in password) and\n",
        "        any(char.islower() for char in password) and\n",
        "        any(char.isdigit() for char in password)):\n",
        "        print(\"Password is valid.\")\n",
        "    else:\n",
        "        print(\"Password is invalid.\")\n",
        "\n",
        "validate_password(input(\"Enter a password: \"))\n"
      ],
      "metadata": {
        "id": "ShQaDzsszKVh"
      },
      "execution_count": null,
      "outputs": []
    },
    {
      "cell_type": "code",
      "source": [],
      "metadata": {
        "id": "KaS_-KdQzKYf"
      },
      "execution_count": null,
      "outputs": []
    },
    {
      "cell_type": "code",
      "source": [],
      "metadata": {
        "id": "mY0j2GPjzKaH"
      },
      "execution_count": null,
      "outputs": []
    },
    {
      "cell_type": "code",
      "source": [],
      "metadata": {
        "id": "EdC4IfNJzKdN"
      },
      "execution_count": null,
      "outputs": []
    }
  ]
}